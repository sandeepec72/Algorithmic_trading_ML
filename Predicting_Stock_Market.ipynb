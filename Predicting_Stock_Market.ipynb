{
  "nbformat": 4,
  "nbformat_minor": 0,
  "metadata": {
    "colab": {
      "name": "Predicting_Stock_Market.ipynb",
      "provenance": [],
      "collapsed_sections": [
        "mphqiW6EsspQ"
      ]
    },
    "kernelspec": {
      "name": "python3",
      "display_name": "Python 3"
    },
    "language_info": {
      "name": "python"
    }
  },
  "cells": [
    {
      "cell_type": "markdown",
      "source": [
        "#Data Preparation"
      ],
      "metadata": {
        "id": "5ZdSlj_3giGd"
      }
    },
    {
      "cell_type": "code",
      "execution_count": null,
      "metadata": {
        "id": "981RPKyVTOkL"
      },
      "outputs": [],
      "source": [
        "import numpy as np\n",
        "import pandas as pd\n",
        "import matplotlib.pyplot as plt\n",
        "from datetime import datetime, timedelta\n",
        "import yfinance as yf"
      ]
    },
    {
      "cell_type": "code",
      "source": [
        "tickers=pd.read_html('https://en.wikipedia.org/wiki/List_of_S%26P_500_companies')[0]['Symbol']"
      ],
      "metadata": {
        "id": "-KxBKGrNVS6U"
      },
      "execution_count": null,
      "outputs": []
    },
    {
      "cell_type": "code",
      "source": [
        "print(tickers)"
      ],
      "metadata": {
        "colab": {
          "base_uri": "https://localhost:8080/"
        },
        "id": "gNWAdRJ4Vanj",
        "outputId": "a846c133-d719-4a6b-ca83-ad1004d8164f"
      },
      "execution_count": null,
      "outputs": [
        {
          "output_type": "stream",
          "name": "stdout",
          "text": [
            "0       MMM\n",
            "1       AOS\n",
            "2       ABT\n",
            "3      ABBV\n",
            "4      ABMD\n",
            "       ... \n",
            "498     YUM\n",
            "499    ZBRA\n",
            "500     ZBH\n",
            "501    ZION\n",
            "502     ZTS\n",
            "Name: Symbol, Length: 503, dtype: object\n"
          ]
        }
      ]
    },
    {
      "cell_type": "code",
      "source": [
        "from sklearn.linear_model import LinearRegression\n",
        "def test_it(opens,closes,preds,start_account=1000,thresh=0):\n",
        "    account = start_account\n",
        "    changes=[]\n",
        "    \n",
        "    for i in range(len(preds)):\n",
        "        if(preds[i]-opens[i])/opens[i] >= thresh:\n",
        "            account += account*(closes[i]-opens[i])/opens[i]\n",
        "        changes.append(account)\n",
        "    changes = np.array(changes)\n",
        "\n",
        "    plt.plot(range(len(changes)),changes)\n",
        "    plt.show()\n",
        "\n",
        "    invest_total = start_account + start_account*(closes[-1]-opens[0])/opens[0]\n",
        "    print('Investing Total:',invest_total,str(round((invest_total-start_account)/start_account*100,1))+ '%')\n",
        "    print('Algo- trading Total:',account,str(round((account-start_account)/start_account*100,1))+ '%')"
      ],
      "metadata": {
        "id": "SfiCILzhPNBo"
      },
      "execution_count": null,
      "outputs": []
    },
    {
      "cell_type": "code",
      "source": [
        "#Moving Average Convergence Divergence (MACD) \n",
        "def calc_macd(data,len1,len2,len3):\n",
        "    shortEMA = data.ewm(span=len1,adjust=False).mean()\n",
        "    longEMA = data.ewm(span=len2,adjust=False).mean()\n",
        "    MACD = shortEMA - longEMA\n",
        "    signal = MACD.ewm(span=len3,adjust=False).mean()\n",
        "    return MACD,signal"
      ],
      "metadata": {
        "id": "RYK50OBudAmE"
      },
      "execution_count": null,
      "outputs": []
    },
    {
      "cell_type": "code",
      "source": [
        "def calc_rsi(data,period):\n",
        "    delta= data.diff()\n",
        "    up = delta.clip(lower=0)\n",
        "    down = -1*delta.clip(upper=0) # to make positive output\n",
        "    ema_up = up.ewm(com=period,adjust=False).mean() #ema is exponential moving avg\n",
        "    ema_down = down.ewm(com=period,adjust=False).mean()\n",
        "    rs = ema_up / ema_down\n",
        "    rsi = 100 - (100/(1+rs))\n",
        "    return rsi"
      ],
      "metadata": {
        "id": "4N9eTsYggvCU"
      },
      "execution_count": null,
      "outputs": []
    },
    {
      "cell_type": "code",
      "source": [
        "def calc_bollinger(data,period):\n",
        "    mean = data.rolling(period).mean()\n",
        "    std = data.rolling(period).std()\n",
        "    upper_band = np.array(mean) + 2*np.array(std)\n",
        "    lower_band = np.array(mean) - 2*np.array(std)\n",
        "    return upper_band,lower_band"
      ],
      "metadata": {
        "id": "L7wLKaRXntI-"
      },
      "execution_count": null,
      "outputs": []
    },
    {
      "cell_type": "code",
      "source": [
        "for ticker in tickers[0:10]:\n",
        "    end_date = datetime.now()\n",
        "    start_date = end_date - timedelta(days=15*365)\n",
        "\n",
        "    history = yf.download(ticker,start_date,end=end_date,interval='1d',prepost=False)\n",
        "    history=history.loc[:,['Open','Close','Volume']]\n",
        "\n",
        "    history['Prev_Close']= history.loc[:,'Close'].shift(1)\n",
        "    history['Prev_Volume']= history.loc[:,'Volume'].shift(1)\n",
        "\n",
        "    datetimes=history.index.values\n",
        "    weekdays=[]\n",
        "\n",
        "    for dt in datetimes:\n",
        "        #print(dt) #2007-07-23T00:00:00.000000000\n",
        "        dt= datetime.strptime(str(dt),'%Y-%m-%dT%H:%M:%S.000000000')\n",
        "        #print(dt)\n",
        "        weekdays.append(dt.weekday())\n",
        "    history['Weekday'] = weekdays\n",
        "\n",
        "    history['5SMA'] = history['Prev_Close'].rolling(5).mean()\n",
        "    history['10SMA'] = history['Prev_Close'].rolling(10).mean()\n",
        "    history['20SMA'] = history['Prev_Close'].rolling(20).mean()\n",
        "    history['50SMA'] = history['Prev_Close'].rolling(50).mean()\n",
        "    history['100SMA'] = history['Prev_Close'].rolling(100).mean()\n",
        "    history['200SMA'] = history['Prev_Close'].rolling(200).mean()\n",
        "    \n",
        "    MACD, signal = calc_macd(history['Prev_Close'],12,26,9)\n",
        "    history['MACD']= MACD\n",
        "    history['MACD_signal'] = signal\n",
        "\n",
        "    history['RSI']=calc_rsi(history['Prev_Close'],13)\n",
        "    history['RSI_Volume']=calc_rsi(history['Prev_Volume'],13)\n",
        "\n",
        "\n",
        "    upper,lower=calc_bollinger(history['Prev_Close'],20)\n",
        "    history['Upper_Band']=upper\n",
        "    history['Lower_Band']=lower\n",
        "\n",
        "    labels = ['Prev_Close',\t'Prev_Volume',\t'5SMA',\t'10SMA',\t'20SMA',\t'50SMA',\t'100SMA',\t'200SMA',\t'MACD',\t'MACD_signal',\t'RSI',\t'RSI_Volume',\t'Upper_Band',\t'Lower_Band']\n",
        "    period=1\n",
        "    new_labels=[str(period)+'d_'+label for label in labels]\n",
        "    #print(new_labels)\n",
        "    history[new_labels]=history[labels].pct_change(period,fill_method='ffill') #percentage change\n",
        "\n",
        "    period=2\n",
        "    new_labels=[str(period)+'d_'+label for label in labels]\n",
        "    #print(new_labels)\n",
        "    history[new_labels]=history[labels].pct_change(period,fill_method='ffill')\n",
        "\n",
        "    period=5\n",
        "    new_labels=[str(period)+'d_'+label for label in labels]\n",
        "    #print(new_labels)\n",
        "    history[new_labels]=history[labels].pct_change(period,fill_method='ffill')\n",
        "\n",
        "    period=10\n",
        "    new_labels=[str(period)+'d_'+label for label in labels]\n",
        "    #print(new_labels)\n",
        "    history[new_labels]=history[labels].pct_change(period,fill_method='ffill')\n",
        "\n",
        "    history=history.replace(np.inf,np.nan).dropna() #dropping the rows with nan, basically first 200 rows which do not have sma values\n",
        "\n",
        "    y = history['Close']\n",
        "    X = history.drop(['Close','Volume'],axis=1).values\n",
        "\n",
        "    num_test = 365\n",
        "    X_train = X[:-1*num_test]\n",
        "    y_train = y[:-1*num_test]\n",
        "    X_test = X[-1*num_test:]\n",
        "    y_test = y[-1*num_test:]\n",
        "\n",
        "    #print(X_train.shape,y_train.shape,X_test.shape,y_test.shape)\n",
        "\n",
        "    model = LinearRegression()\n",
        "    model = model.fit(X_train,y_train)\n",
        "    preds = model.predict(X_test)\n",
        "\n",
        "    print(ticker)\n",
        "\n",
        "    test_it(X_test.T[0],y_test,preds,1000,0.005)\n",
        "\n"
      ],
      "metadata": {
        "colab": {
          "base_uri": "https://localhost:8080/",
          "height": 1000
        },
        "id": "z_plnCjfWweD",
        "outputId": "20cbdb40-5dc3-47df-9114-69fc150fd4bb"
      },
      "execution_count": null,
      "outputs": [
        {
          "output_type": "stream",
          "name": "stdout",
          "text": [
            "\r[*********************100%***********************]  1 of 1 completed\n",
            "MMM\n"
          ]
        },
        {
          "output_type": "display_data",
          "data": {
            "text/plain": [
              "<Figure size 432x288 with 1 Axes>"
            ],
            "image/png": "[encoded data removed]"
          },
          "metadata": {
            "needs_background": "light"
          }
        },
        {
          "output_type": "stream",
          "name": "stdout",
          "text": [
            "Investing Total: 741.9888314506794 -25.8%\n",
            "Algo- trading Total: 948.5315735984998 -5.1%\n",
            "[*********************100%***********************]  1 of 1 completed\n",
            "AOS\n"
          ]
        },
        {
          "output_type": "display_data",
          "data": {
            "text/plain": [
              "<Figure size 432x288 with 1 Axes>"
            ],
            "image/png": "[encoded data removed]"
          },
          "metadata": {
            "needs_background": "light"
          }
        },
        {
          "output_type": "stream",
          "name": "stdout",
          "text": [
            "Investing Total: 989.6925203478838 -1.0%\n",
            "Algo- trading Total: 1000 0.0%\n",
            "[*********************100%***********************]  1 of 1 completed\n",
            "ABT\n"
          ]
        },
        {
          "output_type": "display_data",
          "data": {
            "text/plain": [
              "<Figure size 432x288 with 1 Axes>"
            ],
            "image/png": "[encoded data removed]"
          },
          "metadata": {
            "needs_background": "light"
          }
        },
        {
          "output_type": "stream",
          "name": "stdout",
          "text": [
            "Investing Total: 908.8024188761954 -9.1%\n",
            "Algo- trading Total: 1130.1965687322001 13.0%\n",
            "[*********************100%***********************]  1 of 1 completed\n",
            "ABBV\n"
          ]
        },
        {
          "output_type": "display_data",
          "data": {
            "text/plain": [
              "<Figure size 432x288 with 1 Axes>"
            ],
            "image/png": "[encoded data removed]"
          },
          "metadata": {
            "needs_background": "light"
          }
        },
        {
          "output_type": "stream",
          "name": "stdout",
          "text": [
            "Investing Total: 1446.5160031224484 44.7%\n",
            "Algo- trading Total: 1003.5794768735241 0.4%\n",
            "[*********************100%***********************]  1 of 1 completed\n",
            "ABMD\n"
          ]
        },
        {
          "output_type": "display_data",
          "data": {
            "text/plain": [
              "<Figure size 432x288 with 1 Axes>"
            ],
            "image/png": "[encoded data removed]"
          },
          "metadata": {
            "needs_background": "light"
          }
        },
        {
          "output_type": "stream",
          "name": "stdout",
          "text": [
            "Investing Total: 817.9738960807267 -18.2%\n",
            "Algo- trading Total: 1196.6712569162105 19.7%\n",
            "[*********************100%***********************]  1 of 1 completed\n",
            "ACN\n"
          ]
        },
        {
          "output_type": "display_data",
          "data": {
            "text/plain": [
              "<Figure size 432x288 with 1 Axes>"
            ],
            "image/png": "[encoded data removed]"
          },
          "metadata": {
            "needs_background": "light"
          }
        },
        {
          "output_type": "stream",
          "name": "stdout",
          "text": [
            "Investing Total: 1094.000509056659 9.4%\n",
            "Algo- trading Total: 1174.6955909639532 17.5%\n",
            "[*********************100%***********************]  1 of 1 completed\n",
            "ATVI\n"
          ]
        },
        {
          "output_type": "display_data",
          "data": {
            "text/plain": [
              "<Figure size 432x288 with 1 Axes>"
            ],
            "image/png": "[encoded data removed]"
          },
          "metadata": {
            "needs_background": "light"
          }
        },
        {
          "output_type": "stream",
          "name": "stdout",
          "text": [
            "Investing Total: 824.2624336216669 -17.6%\n",
            "Algo- trading Total: 863.8702491125345 -13.6%\n",
            "[*********************100%***********************]  1 of 1 completed\n",
            "ADM\n"
          ]
        },
        {
          "output_type": "display_data",
          "data": {
            "text/plain": [
              "<Figure size 432x288 with 1 Axes>"
            ],
            "image/png": "[encoded data removed]"
          },
          "metadata": {
            "needs_background": "light"
          }
        },
        {
          "output_type": "stream",
          "name": "stdout",
          "text": [
            "Investing Total: 1412.0415302987876 41.2%\n",
            "Algo- trading Total: 1000 0.0%\n",
            "[*********************100%***********************]  1 of 1 completed\n",
            "ADBE\n"
          ]
        },
        {
          "output_type": "display_data",
          "data": {
            "text/plain": [
              "<Figure size 432x288 with 1 Axes>"
            ],
            "image/png": "[encoded data removed]"
          },
          "metadata": {
            "needs_background": "light"
          }
        },
        {
          "output_type": "stream",
          "name": "stdout",
          "text": [
            "Investing Total: 779.8558545802211 -22.0%\n",
            "Algo- trading Total: 1162.5262735098236 16.3%\n",
            "[*********************100%***********************]  1 of 1 completed\n",
            "ADP\n"
          ]
        },
        {
          "output_type": "display_data",
          "data": {
            "text/plain": [
              "<Figure size 432x288 with 1 Axes>"
            ],
            "image/png": "[encoded data removed]"
          },
          "metadata": {
            "needs_background": "light"
          }
        },
        {
          "output_type": "stream",
          "name": "stdout",
          "text": [
            "Investing Total: 1281.6783114593893 28.2%\n",
            "Algo- trading Total: 1008.9094978815772 0.9%\n"
          ]
        }
      ]
    },
    {
      "cell_type": "code",
      "source": [
        "for ticker in tickers[0:1]:\n",
        "    end_date = datetime.now()\n",
        "    start_date = end_date - timedelta(days=15*365)\n",
        "\n",
        "    history = yf.download(ticker,start_date,end=end_date,interval='1d',prepost=False)\n",
        "    history=history.loc[:,['Open','Close','Volume']]\n",
        "\n",
        "    history['Prev_Close']= history.loc[:,'Close'].shift(1)\n",
        "    history['Prev_Volume']= history.loc[:,'Volume'].shift(1)\n",
        "\n",
        "    datetimes=history.index.values\n",
        "    weekdays=[]\n",
        "\n",
        "    for dt in datetimes:\n",
        "        #print(dt) #2007-07-23T00:00:00.000000000\n",
        "        dt= datetime.strptime(str(dt),'%Y-%m-%dT%H:%M:%S.000000000')\n",
        "        #print(dt)\n",
        "        weekdays.append(dt.weekday())\n",
        "    history['Weekday'] = weekdays\n",
        "\n",
        "    history['5SMA'] = history['Prev_Close'].rolling(5).mean()\n",
        "    history['10SMA'] = history['Prev_Close'].rolling(10).mean()\n",
        "    history['20SMA'] = history['Prev_Close'].rolling(20).mean()\n",
        "    history['50SMA'] = history['Prev_Close'].rolling(50).mean()\n",
        "    history['100SMA'] = history['Prev_Close'].rolling(100).mean()\n",
        "    history['200SMA'] = history['Prev_Close'].rolling(200).mean()\n",
        "    \n",
        "    MACD, signal = calc_macd(history['Prev_Close'],12,26,9)\n",
        "    history['MACD']= MACD\n",
        "    history['MACD_signal'] = signal\n",
        "\n",
        "    history['RSI']=calc_rsi(history['Prev_Close'],13)\n",
        "    history['RSI_Volume']=calc_rsi(history['Prev_Volume'],13)\n",
        "\n",
        "\n",
        "    upper,lower=calc_bollinger(history['Prev_Close'],20)\n",
        "    history['Upper_Band']=upper\n",
        "    history['Lower_Band']=lower\n",
        "\n",
        "    labels = ['Prev_Close',\t'Prev_Volume',\t'5SMA',\t'10SMA',\t'20SMA',\t'50SMA',\t'100SMA',\t'200SMA',\t'MACD',\t'MACD_signal',\t'RSI',\t'RSI_Volume',\t'Upper_Band',\t'Lower_Band']\n",
        "    period=1\n",
        "    new_labels=[str(period)+'d_'+label for label in labels]\n",
        "    #print(new_labels)\n",
        "    history[new_labels]=history[labels].pct_change(period,fill_method='ffill') #percentage change\n",
        "\n",
        "    period=2\n",
        "    new_labels=[str(period)+'d_'+label for label in labels]\n",
        "    #print(new_labels)\n",
        "    history[new_labels]=history[labels].pct_change(period,fill_method='ffill')\n",
        "\n",
        "    period=5\n",
        "    new_labels=[str(period)+'d_'+label for label in labels]\n",
        "    #print(new_labels)\n",
        "    history[new_labels]=history[labels].pct_change(period,fill_method='ffill')\n",
        "\n",
        "    period=10\n",
        "    new_labels=[str(period)+'d_'+label for label in labels]\n",
        "    #print(new_labels)\n",
        "    history[new_labels]=history[labels].pct_change(period,fill_method='ffill')\n",
        "\n",
        "    history=history.replace(np.inf,np.nan).dropna() #dropping the rows with nan, basically first 200 rows which do not have sma values\n",
        "    x=history.index.values\n",
        "    \n",
        "    plt.figure(figsize=(15,8)) #enlarging fig\n",
        "    plt.plot(x,history['Prev_Close'],color='blue')\n",
        "\n",
        "    plt.plot(x,history['50SMA'],color='green')\n",
        "    plt.plot(x,history['200SMA'],color='red')\n",
        "    plt.plot(x,history['Upper_Band'],color='orange')\n",
        "    plt.plot(x,history['Lower_Band'],color='orange')\n",
        "    plt.xlim(x[1000],x[1500])\n",
        "    plt.ylim(60,120)\n",
        "    plt.show()\n",
        "\n",
        "    plt.figure(figsize=(15,3))\n",
        "    colors = np.array(['green']*len(history['MACD']))\n",
        "    colors[history['MACD']<0]='red'\n",
        "    plt.bar(x,history['MACD'],color=colors)\n",
        "    plt.plot(x,history['MACD_signal'],color='blue')\n",
        "    plt.xlim(x[1000],x[1500])\n",
        "    plt.show()\n",
        "\n",
        "    plt.figure(figsize=(15,3))\n",
        "\n",
        "    plt.plot(x,history['RSI'],color='purple')\n",
        "    plt.plot([x[0],x[-1]],[80,80],color = 'red')\n",
        "    plt.plot([x[0],x[-1]],[20,20],color = 'green')\n",
        "\n",
        "    plt.xlim(x[1000],x[1500])\n",
        "    plt.ylim(0,100)\n",
        "    plt.show()\n",
        "\n",
        "\n",
        "\n",
        "    display(history)"
      ],
      "metadata": {
        "colab": {
          "base_uri": "https://localhost:8080/",
          "height": 1000
        },
        "id": "yFFyRB7MQJpU",
        "outputId": "c07ec7c0-e3d2-43f2-c7c7-401db5bf87ba"
      },
      "execution_count": null,
      "outputs": [
        {
          "output_type": "stream",
          "name": "stdout",
          "text": [
            "\r[*********************100%***********************]  1 of 1 completed\n"
          ]
        },
        {
          "output_type": "display_data",
          "data": {
            "text/plain": [
              "<Figure size 1080x576 with 1 Axes>"
            ],
            "image/png": "[encoded data removed]"
          },
          "metadata": {
            "needs_background": "light"
          }
        },
        {
          "output_type": "display_data",
          "data": {
            "text/plain": [
              "<Figure size 1080x216 with 1 Axes>"
            ],
            "image/png": "[encoded data removed]"
          },
          "metadata": {
            "needs_background": "light"
          }
        },
        {
          "output_type": "display_data",
          "data": {
            "text/plain": [
              "<Figure size 1080x216 with 1 Axes>"
            ],
            "image/png": "[encoded data removed]"
          },
          "metadata": {
            "needs_background": "light"
          }
        },
        {
          "output_type": "display_data",
          "data": {
            "text/plain": [
              "                  Open       Close   Volume  Prev_Close  Prev_Volume  Weekday  \\\n",
              "Date                                                                            \n",
              "2008-05-21   77.510002   76.120003  4429800   77.529999    5215400.0        2   \n",
              "2008-05-22   76.370003   76.639999  3843200   76.120003    4429800.0        3   \n",
              "2008-05-23   76.239998   75.809998  2879100   76.639999    3843200.0        4   \n",
              "2008-05-27   75.730003   76.169998  2789000   75.809998    2879100.0        1   \n",
              "2008-05-28   76.339996   76.900002  3681600   76.169998    2789000.0        2   \n",
              "...                ...         ...      ...         ...          ...      ...   \n",
              "2022-07-11  128.729996  129.009995  2693200  128.720001    2190700.0        0   \n",
              "2022-07-12  129.160004  130.199997  2638100  129.009995    2693200.0        1   \n",
              "2022-07-13  128.000000  128.369995  2490300  130.199997    2638100.0        2   \n",
              "2022-07-14  126.980003  128.309998  2525500  128.369995    2490300.0        3   \n",
              "2022-07-15  129.869995  130.130005  2638100  128.309998    2525500.0        4   \n",
              "\n",
              "                  5SMA       10SMA       20SMA       50SMA  ...  10d_20SMA  \\\n",
              "Date                                                        ...              \n",
              "2008-05-21   78.166002   77.563000   77.790000   78.863800  ...  -0.017456   \n",
              "2008-05-22   77.844002   77.507001   77.564500   78.827200  ...  -0.018500   \n",
              "2008-05-23   77.600002   77.476001   77.440001   78.791600  ...  -0.017963   \n",
              "2008-05-27   77.030000   77.425001   77.339500   78.726200  ...  -0.017899   \n",
              "2008-05-28   76.453999   77.275001   77.291500   78.699000  ...  -0.018140   \n",
              "...                ...         ...         ...         ...  ...        ...   \n",
              "2022-07-11  129.262003  130.295003  132.103500  141.500800  ...  -0.059701   \n",
              "2022-07-12  129.366000  129.763002  131.345000  141.196799  ...  -0.061272   \n",
              "2022-07-13  129.563998  129.503001  130.972500  140.857999  ...  -0.059146   \n",
              "2022-07-14  129.269998  129.307001  130.572500  140.540999  ...  -0.055513   \n",
              "2022-07-15  128.921997  129.161000  130.225500  140.188999  ...  -0.051325   \n",
              "\n",
              "            10d_50SMA  10d_100SMA  10d_200SMA  10d_MACD  10d_MACD_signal  \\\n",
              "Date                                                                       \n",
              "2008-05-21  -0.002557   -0.010428   -0.007120 -0.398018         0.650824   \n",
              "2008-05-22  -0.001856   -0.010353   -0.006975 -0.295249         0.309846   \n",
              "2008-05-23  -0.001414   -0.010175   -0.006900 -0.271262         0.120373   \n",
              "2008-05-27  -0.001362   -0.010049   -0.006848 -0.215859         0.015123   \n",
              "2008-05-28  -0.001522   -0.009862   -0.006752 -0.093161        -0.013690   \n",
              "...               ...         ...         ...       ...              ...   \n",
              "2022-07-11  -0.025119   -0.022181   -0.016232 -0.207620         0.140784   \n",
              "2022-07-12  -0.025300   -0.022047   -0.016175 -0.185731         0.062211   \n",
              "2022-07-13  -0.025505   -0.021591   -0.016151 -0.211943         0.000614   \n",
              "2022-07-14  -0.025399   -0.021028   -0.016131 -0.235313        -0.051307   \n",
              "2022-07-15  -0.025622   -0.020104   -0.016097 -0.260274        -0.096482   \n",
              "\n",
              "             10d_RSI  10d_RSI_Volume  10d_Upper_Band  10d_Lower_Band  \n",
              "Date                                                                  \n",
              "2008-05-21  0.040754        0.221373       -0.035476        0.002271  \n",
              "2008-05-22  0.006411        0.037633       -0.042720        0.008127  \n",
              "2008-05-23  0.037810        0.008067       -0.044411        0.011160  \n",
              "2008-05-27  0.019997       -0.079204       -0.044464        0.011481  \n",
              "2008-05-28 -0.095589       -0.061564       -0.044042        0.010524  \n",
              "...              ...             ...             ...             ...  \n",
              "2022-07-11  0.275327       -0.019967       -0.100513       -0.009080  \n",
              "2022-07-12 -0.122046       -0.062561       -0.117294        0.008302  \n",
              "2022-07-13  0.062413        0.008899       -0.120789        0.017413  \n",
              "2022-07-14  0.060956       -0.006180       -0.120103        0.024447  \n",
              "2022-07-15  0.082875       -0.031622       -0.117364        0.029948  \n",
              "\n",
              "[3563 rows x 74 columns]"
            ],
            "text/html": [
              "\n",
              "  <div id=\"df-0ad2639b-b4b9-4dbc-a5c3-1dfb1ff34821\">\n",
              "    <div class=\"colab-df-container\">\n",
              "      <div>\n",
              "<style scoped>\n",
              "    .dataframe tbody tr th:only-of-type {\n",
              "        vertical-align: middle;\n",
              "    }\n",
              "\n",
              "    .dataframe tbody tr th {\n",
              "        vertical-align: top;\n",
              "    }\n",
              "\n",
              "    .dataframe thead th {\n",
              "        text-align: right;\n",
              "    }\n",
              "</style>\n",
              "<table border=\"1\" class=\"dataframe\">\n",
              "  <thead>\n",
              "    <tr style=\"text-align: right;\">\n",
              "      <th></th>\n",
              "      <th>Open</th>\n",
              "      <th>Close</th>\n",
              "      <th>Volume</th>\n",
              "      <th>Prev_Close</th>\n",
              "      <th>Prev_Volume</th>\n",
              "      <th>Weekday</th>\n",
              "      <th>5SMA</th>\n",
              "      <th>10SMA</th>\n",
              "      <th>20SMA</th>\n",
              "      <th>50SMA</th>\n",
              "      <th>...</th>\n",
              "      <th>10d_20SMA</th>\n",
              "      <th>10d_50SMA</th>\n",
              "      <th>10d_100SMA</th>\n",
              "      <th>10d_200SMA</th>\n",
              "      <th>10d_MACD</th>\n",
              "      <th>10d_MACD_signal</th>\n",
              "      <th>10d_RSI</th>\n",
              "      <th>10d_RSI_Volume</th>\n",
              "      <th>10d_Upper_Band</th>\n",
              "      <th>10d_Lower_Band</th>\n",
              "    </tr>\n",
              "    <tr>\n",
              "      <th>Date</th>\n",
              "      <th></th>\n",
              "      <th></th>\n",
              "      <th></th>\n",
              "      <th></th>\n",
              "      <th></th>\n",
              "      <th></th>\n",
              "      <th></th>\n",
              "      <th></th>\n",
              "      <th></th>\n",
              "      <th></th>\n",
              "      <th></th>\n",
              "      <th></th>\n",
              "      <th></th>\n",
              "      <th></th>\n",
              "      <th></th>\n",
              "      <th></th>\n",
              "      <th></th>\n",
              "      <th></th>\n",
              "      <th></th>\n",
              "      <th></th>\n",
              "      <th></th>\n",
              "    </tr>\n",
              "  </thead>\n",
              "  <tbody>\n",
              "    <tr>\n",
              "      <th>2008-05-21</th>\n",
              "      <td>77.510002</td>\n",
              "      <td>76.120003</td>\n",
              "      <td>4429800</td>\n",
              "      <td>77.529999</td>\n",
              "      <td>5215400.0</td>\n",
              "      <td>2</td>\n",
              "      <td>78.166002</td>\n",
              "      <td>77.563000</td>\n",
              "      <td>77.790000</td>\n",
              "      <td>78.863800</td>\n",
              "      <td>...</td>\n",
              "      <td>-0.017456</td>\n",
              "      <td>-0.002557</td>\n",
              "      <td>-0.010428</td>\n",
              "      <td>-0.007120</td>\n",
              "      <td>-0.398018</td>\n",
              "      <td>0.650824</td>\n",
              "      <td>0.040754</td>\n",
              "      <td>0.221373</td>\n",
              "      <td>-0.035476</td>\n",
              "      <td>0.002271</td>\n",
              "    </tr>\n",
              "    <tr>\n",
              "      <th>2008-05-22</th>\n",
              "      <td>76.370003</td>\n",
              "      <td>76.639999</td>\n",
              "      <td>3843200</td>\n",
              "      <td>76.120003</td>\n",
              "      <td>4429800.0</td>\n",
              "      <td>3</td>\n",
              "      <td>77.844002</td>\n",
              "      <td>77.507001</td>\n",
              "      <td>77.564500</td>\n",
              "      <td>78.827200</td>\n",
              "      <td>...</td>\n",
              "      <td>-0.018500</td>\n",
              "      <td>-0.001856</td>\n",
              "      <td>-0.010353</td>\n",
              "      <td>-0.006975</td>\n",
              "      <td>-0.295249</td>\n",
              "      <td>0.309846</td>\n",
              "      <td>0.006411</td>\n",
              "      <td>0.037633</td>\n",
              "      <td>-0.042720</td>\n",
              "      <td>0.008127</td>\n",
              "    </tr>\n",
              "    <tr>\n",
              "      <th>2008-05-23</th>\n",
              "      <td>76.239998</td>\n",
              "      <td>75.809998</td>\n",
              "      <td>2879100</td>\n",
              "      <td>76.639999</td>\n",
              "      <td>3843200.0</td>\n",
              "      <td>4</td>\n",
              "      <td>77.600002</td>\n",
              "      <td>77.476001</td>\n",
              "      <td>77.440001</td>\n",
              "      <td>78.791600</td>\n",
              "      <td>...</td>\n",
              "      <td>-0.017963</td>\n",
              "      <td>-0.001414</td>\n",
              "      <td>-0.010175</td>\n",
              "      <td>-0.006900</td>\n",
              "      <td>-0.271262</td>\n",
              "      <td>0.120373</td>\n",
              "      <td>0.037810</td>\n",
              "      <td>0.008067</td>\n",
              "      <td>-0.044411</td>\n",
              "      <td>0.011160</td>\n",
              "    </tr>\n",
              "    <tr>\n",
              "      <th>2008-05-27</th>\n",
              "      <td>75.730003</td>\n",
              "      <td>76.169998</td>\n",
              "      <td>2789000</td>\n",
              "      <td>75.809998</td>\n",
              "      <td>2879100.0</td>\n",
              "      <td>1</td>\n",
              "      <td>77.030000</td>\n",
              "      <td>77.425001</td>\n",
              "      <td>77.339500</td>\n",
              "      <td>78.726200</td>\n",
              "      <td>...</td>\n",
              "      <td>-0.017899</td>\n",
              "      <td>-0.001362</td>\n",
              "      <td>-0.010049</td>\n",
              "      <td>-0.006848</td>\n",
              "      <td>-0.215859</td>\n",
              "      <td>0.015123</td>\n",
              "      <td>0.019997</td>\n",
              "      <td>-0.079204</td>\n",
              "      <td>-0.044464</td>\n",
              "      <td>0.011481</td>\n",
              "    </tr>\n",
              "    <tr>\n",
              "      <th>2008-05-28</th>\n",
              "      <td>76.339996</td>\n",
              "      <td>76.900002</td>\n",
              "      <td>3681600</td>\n",
              "      <td>76.169998</td>\n",
              "      <td>2789000.0</td>\n",
              "      <td>2</td>\n",
              "      <td>76.453999</td>\n",
              "      <td>77.275001</td>\n",
              "      <td>77.291500</td>\n",
              "      <td>78.699000</td>\n",
              "      <td>...</td>\n",
              "      <td>-0.018140</td>\n",
              "      <td>-0.001522</td>\n",
              "      <td>-0.009862</td>\n",
              "      <td>-0.006752</td>\n",
              "      <td>-0.093161</td>\n",
              "      <td>-0.013690</td>\n",
              "      <td>-0.095589</td>\n",
              "      <td>-0.061564</td>\n",
              "      <td>-0.044042</td>\n",
              "      <td>0.010524</td>\n",
              "    </tr>\n",
              "    <tr>\n",
              "      <th>...</th>\n",
              "      <td>...</td>\n",
              "      <td>...</td>\n",
              "      <td>...</td>\n",
              "      <td>...</td>\n",
              "      <td>...</td>\n",
              "      <td>...</td>\n",
              "      <td>...</td>\n",
              "      <td>...</td>\n",
              "      <td>...</td>\n",
              "      <td>...</td>\n",
              "      <td>...</td>\n",
              "      <td>...</td>\n",
              "      <td>...</td>\n",
              "      <td>...</td>\n",
              "      <td>...</td>\n",
              "      <td>...</td>\n",
              "      <td>...</td>\n",
              "      <td>...</td>\n",
              "      <td>...</td>\n",
              "      <td>...</td>\n",
              "      <td>...</td>\n",
              "    </tr>\n",
              "    <tr>\n",
              "      <th>2022-07-11</th>\n",
              "      <td>128.729996</td>\n",
              "      <td>129.009995</td>\n",
              "      <td>2693200</td>\n",
              "      <td>128.720001</td>\n",
              "      <td>2190700.0</td>\n",
              "      <td>0</td>\n",
              "      <td>129.262003</td>\n",
              "      <td>130.295003</td>\n",
              "      <td>132.103500</td>\n",
              "      <td>141.500800</td>\n",
              "      <td>...</td>\n",
              "      <td>-0.059701</td>\n",
              "      <td>-0.025119</td>\n",
              "      <td>-0.022181</td>\n",
              "      <td>-0.016232</td>\n",
              "      <td>-0.207620</td>\n",
              "      <td>0.140784</td>\n",
              "      <td>0.275327</td>\n",
              "      <td>-0.019967</td>\n",
              "      <td>-0.100513</td>\n",
              "      <td>-0.009080</td>\n",
              "    </tr>\n",
              "    <tr>\n",
              "      <th>2022-07-12</th>\n",
              "      <td>129.160004</td>\n",
              "      <td>130.199997</td>\n",
              "      <td>2638100</td>\n",
              "      <td>129.009995</td>\n",
              "      <td>2693200.0</td>\n",
              "      <td>1</td>\n",
              "      <td>129.366000</td>\n",
              "      <td>129.763002</td>\n",
              "      <td>131.345000</td>\n",
              "      <td>141.196799</td>\n",
              "      <td>...</td>\n",
              "      <td>-0.061272</td>\n",
              "      <td>-0.025300</td>\n",
              "      <td>-0.022047</td>\n",
              "      <td>-0.016175</td>\n",
              "      <td>-0.185731</td>\n",
              "      <td>0.062211</td>\n",
              "      <td>-0.122046</td>\n",
              "      <td>-0.062561</td>\n",
              "      <td>-0.117294</td>\n",
              "      <td>0.008302</td>\n",
              "    </tr>\n",
              "    <tr>\n",
              "      <th>2022-07-13</th>\n",
              "      <td>128.000000</td>\n",
              "      <td>128.369995</td>\n",
              "      <td>2490300</td>\n",
              "      <td>130.199997</td>\n",
              "      <td>2638100.0</td>\n",
              "      <td>2</td>\n",
              "      <td>129.563998</td>\n",
              "      <td>129.503001</td>\n",
              "      <td>130.972500</td>\n",
              "      <td>140.857999</td>\n",
              "      <td>...</td>\n",
              "      <td>-0.059146</td>\n",
              "      <td>-0.025505</td>\n",
              "      <td>-0.021591</td>\n",
              "      <td>-0.016151</td>\n",
              "      <td>-0.211943</td>\n",
              "      <td>0.000614</td>\n",
              "      <td>0.062413</td>\n",
              "      <td>0.008899</td>\n",
              "      <td>-0.120789</td>\n",
              "      <td>0.017413</td>\n",
              "    </tr>\n",
              "    <tr>\n",
              "      <th>2022-07-14</th>\n",
              "      <td>126.980003</td>\n",
              "      <td>128.309998</td>\n",
              "      <td>2525500</td>\n",
              "      <td>128.369995</td>\n",
              "      <td>2490300.0</td>\n",
              "      <td>3</td>\n",
              "      <td>129.269998</td>\n",
              "      <td>129.307001</td>\n",
              "      <td>130.572500</td>\n",
              "      <td>140.540999</td>\n",
              "      <td>...</td>\n",
              "      <td>-0.055513</td>\n",
              "      <td>-0.025399</td>\n",
              "      <td>-0.021028</td>\n",
              "      <td>-0.016131</td>\n",
              "      <td>-0.235313</td>\n",
              "      <td>-0.051307</td>\n",
              "      <td>0.060956</td>\n",
              "      <td>-0.006180</td>\n",
              "      <td>-0.120103</td>\n",
              "      <td>0.024447</td>\n",
              "    </tr>\n",
              "    <tr>\n",
              "      <th>2022-07-15</th>\n",
              "      <td>129.869995</td>\n",
              "      <td>130.130005</td>\n",
              "      <td>2638100</td>\n",
              "      <td>128.309998</td>\n",
              "      <td>2525500.0</td>\n",
              "      <td>4</td>\n",
              "      <td>128.921997</td>\n",
              "      <td>129.161000</td>\n",
              "      <td>130.225500</td>\n",
              "      <td>140.188999</td>\n",
              "      <td>...</td>\n",
              "      <td>-0.051325</td>\n",
              "      <td>-0.025622</td>\n",
              "      <td>-0.020104</td>\n",
              "      <td>-0.016097</td>\n",
              "      <td>-0.260274</td>\n",
              "      <td>-0.096482</td>\n",
              "      <td>0.082875</td>\n",
              "      <td>-0.031622</td>\n",
              "      <td>-0.117364</td>\n",
              "      <td>0.029948</td>\n",
              "    </tr>\n",
              "  </tbody>\n",
              "</table>\n",
              "<p>3563 rows × 74 columns</p>\n",
              "</div>\n",
              "      <button class=\"colab-df-convert\" onclick=\"convertToInteractive('df-0ad2639b-b4b9-4dbc-a5c3-1dfb1ff34821')\"\n",
              "              title=\"Convert this dataframe to an interactive table.\"\n",
              "              style=\"display:none;\">\n",
              "        \n",
              "  <svg xmlns=\"http://www.w3.org/2000/svg\" height=\"24px\"viewBox=\"0 0 24 24\"\n",
              "       width=\"24px\">\n",
              "    <path d=\"M0 0h24v24H0V0z\" fill=\"none\"/>\n",
              "    <path d=\"M18.56 5.44l.94 2.06.94-2.06 2.06-.94-2.06-.94-.94-2.06-.94 2.06-2.06.94zm-11 1L8.5 8.5l.94-2.06 2.06-.94-2.06-.94L8.5 2.5l-.94 2.06-2.06.94zm10 10l.94 2.06.94-2.06 2.06-.94-2.06-.94-.94-2.06-.94 2.06-2.06.94z\"/><path d=\"M17.41 7.96l-1.37-1.37c-.4-.4-.92-.59-1.43-.59-.52 0-1.04.2-1.43.59L10.3 9.45l-7.72 7.72c-.78.78-.78 2.05 0 2.83L4 21.41c.39.39.9.59 1.41.59.51 0 1.02-.2 1.41-.59l7.78-7.78 2.81-2.81c.8-.78.8-2.07 0-2.86zM5.41 20L4 18.59l7.72-7.72 1.47 1.35L5.41 20z\"/>\n",
              "  </svg>\n",
              "      </button>\n",
              "      \n",
              "  <style>\n",
              "    .colab-df-container {\n",
              "      display:flex;\n",
              "      flex-wrap:wrap;\n",
              "      gap: 12px;\n",
              "    }\n",
              "\n",
              "    .colab-df-convert {\n",
              "      background-color: #E8F0FE;\n",
              "      border: none;\n",
              "      border-radius: 50%;\n",
              "      cursor: pointer;\n",
              "      display: none;\n",
              "      fill: #1967D2;\n",
              "      height: 32px;\n",
              "      padding: 0 0 0 0;\n",
              "      width: 32px;\n",
              "    }\n",
              "\n",
              "    .colab-df-convert:hover {\n",
              "      background-color: #E2EBFA;\n",
              "      box-shadow: 0px 1px 2px rgba(60, 64, 67, 0.3), 0px 1px 3px 1px rgba(60, 64, 67, 0.15);\n",
              "      fill: #174EA6;\n",
              "    }\n",
              "\n",
              "    [theme=dark] .colab-df-convert {\n",
              "      background-color: #3B4455;\n",
              "      fill: #D2E3FC;\n",
              "    }\n",
              "\n",
              "    [theme=dark] .colab-df-convert:hover {\n",
              "      background-color: #434B5C;\n",
              "      box-shadow: 0px 1px 3px 1px rgba(0, 0, 0, 0.15);\n",
              "      filter: drop-shadow(0px 1px 2px rgba(0, 0, 0, 0.3));\n",
              "      fill: #FFFFFF;\n",
              "    }\n",
              "  </style>\n",
              "\n",
              "      <script>\n",
              "        const buttonEl =\n",
              "          document.querySelector('#df-0ad2639b-b4b9-4dbc-a5c3-1dfb1ff34821 button.colab-df-convert');\n",
              "        buttonEl.style.display =\n",
              "          google.colab.kernel.accessAllowed ? 'block' : 'none';\n",
              "\n",
              "        async function convertToInteractive(key) {\n",
              "          const element = document.querySelector('#df-0ad2639b-b4b9-4dbc-a5c3-1dfb1ff34821');\n",
              "          const dataTable =\n",
              "            await google.colab.kernel.invokeFunction('convertToInteractive',\n",
              "                                                     [key], {});\n",
              "          if (!dataTable) return;\n",
              "\n",
              "          const docLinkHtml = 'Like what you see? Visit the ' +\n",
              "            '<a target=\"_blank\" href=https://colab.research.google.com/notebooks/data_table.ipynb>data table notebook</a>'\n",
              "            + ' to learn more about interactive tables.';\n",
              "          element.innerHTML = '';\n",
              "          dataTable['output_type'] = 'display_data';\n",
              "          await google.colab.output.renderOutput(dataTable, element);\n",
              "          const docLink = document.createElement('div');\n",
              "          docLink.innerHTML = docLinkHtml;\n",
              "          element.appendChild(docLink);\n",
              "        }\n",
              "      </script>\n",
              "    </div>\n",
              "  </div>\n",
              "  "
            ]
          },
          "metadata": {}
        }
      ]
    },
    {
      "cell_type": "markdown",
      "source": [
        "#Linear Regression"
      ],
      "metadata": {
        "id": "mphqiW6EsspQ"
      }
    },
    {
      "cell_type": "code",
      "source": [
        "from sklearn.linear_model import LinearRegression\n",
        "def test_it(opens,closes,preds,start_account=1000,thresh=0):\n",
        "    account = start_account\n",
        "    changes=[]\n",
        "    \n",
        "    for i in range(len(preds)):\n",
        "        if(preds[i]-opens[i])/opens[i] >= thresh:\n",
        "            account += account*(closes[i]-opens[i])/opens[i]\n",
        "        changes.append(account)\n",
        "    changes = np.array(changes)\n",
        "\n",
        "    plt.plot(range(len(changes)),changes)\n",
        "    plt.show()\n",
        "\n",
        "    invest_total = start_account + start_account*(closes[-1]-opens[0])/opens[0]\n",
        "    print('Investing Total:',invest_total,str(round((invest_total-start_account)/start_account*100,1))+ '%')\n",
        "    print('Algo- trading Total:',account,str(round((account-start_account)/start_account*100,1))+ '%')"
      ],
      "metadata": {
        "id": "UQxUYHq541mT"
      },
      "execution_count": null,
      "outputs": []
    },
    {
      "cell_type": "code",
      "source": [
        "from sklearn.linear_model import LinearRegression\n",
        "\n",
        "y = history['Close']\n",
        "X = history.drop(['Close','Volume'],axis=1).values\n",
        "\n",
        "num_test = 365\n",
        "X_train = X[:-1*num_test]\n",
        "y_train = y[:-1*num_test]\n",
        "X_test = X[-1*num_test:]\n",
        "y_test = y[-1*num_test:]\n",
        "\n",
        "#print(X_train.shape,y_train.shape,X_test.shape,y_test.shape)\n",
        "\n",
        "model = LinearRegression()\n",
        "model = model.fit(X_train,y_train)\n",
        "preds = model.predict(X_test)\n",
        "\n",
        "print(ticker)\n",
        "\n",
        "test_it(X_test.T[0],y_test,preds,1000,0.0)\n",
        "#The code is copied and executed in 8th section of Data interpretation (starting of the code) \n",
        "plt.figure(figsize=(15,5))\n",
        "plt.plot(range(len(y_test)),y_test,'blue')\n",
        "plt.plot(range(len(preds)),preds,'red')\n",
        "plt.show()"
      ],
      "metadata": {
        "colab": {
          "base_uri": "https://localhost:8080/",
          "height": 620
        },
        "id": "aJj4kisisuaO",
        "outputId": "d160478a-695b-439c-f244-c8c666e0ff9e"
      },
      "execution_count": null,
      "outputs": [
        {
          "output_type": "stream",
          "name": "stdout",
          "text": [
            "MMM\n"
          ]
        },
        {
          "output_type": "display_data",
          "data": {
            "text/plain": [
              "<Figure size 432x288 with 1 Axes>"
            ],
            "image/png": "[encoded data removed]"
          },
          "metadata": {
            "needs_background": "light"
          }
        },
        {
          "output_type": "stream",
          "name": "stdout",
          "text": [
            "Investing Total: 741.9888314506794 -25.8%\n",
            "Algo- trading Total: 814.3110707818615 -18.6%\n"
          ]
        },
        {
          "output_type": "display_data",
          "data": {
            "text/plain": [
              "<Figure size 1080x360 with 1 Axes>"
            ],
            "image/png": "[encoded data removed]"
          },
          "metadata": {
            "needs_background": "light"
          }
        }
      ]
    },
    {
      "cell_type": "code",
      "source": [
        ""
      ],
      "metadata": {
        "id": "0qW2rqCZ22ps"
      },
      "execution_count": null,
      "outputs": []
    },
    {
      "cell_type": "markdown",
      "source": [
        "#SP500 Data Preparation"
      ],
      "metadata": {
        "id": "ch3y8iCRT7Aa"
      }
    },
    {
      "cell_type": "code",
      "source": [
        "import pandas as pd\n",
        "import numpy as np\n",
        "import matplotlib.pyplot as plt\n",
        "import yfinance as yf\n",
        "from datetime import datetime\n",
        "import time"
      ],
      "metadata": {
        "id": "WU4gTYtfUAbH"
      },
      "execution_count": null,
      "outputs": []
    },
    {
      "cell_type": "code",
      "source": [
        "tickers = pd.read_html('https://en.wikipedia.org/wiki/List_of_S%26P_500_companies')[0]['Symbol']\n",
        "print(tickers)"
      ],
      "metadata": {
        "colab": {
          "base_uri": "https://localhost:8080/"
        },
        "id": "zXVJmys9VsHi",
        "outputId": "3e37f026-51d8-40cf-dbae-ec3e82585534"
      },
      "execution_count": null,
      "outputs": [
        {
          "output_type": "stream",
          "name": "stdout",
          "text": [
            "0       MMM\n",
            "1       AOS\n",
            "2       ABT\n",
            "3      ABBV\n",
            "4      ABMD\n",
            "       ... \n",
            "498     YUM\n",
            "499    ZBRA\n",
            "500     ZBH\n",
            "501    ZION\n",
            "502     ZTS\n",
            "Name: Symbol, Length: 503, dtype: object\n"
          ]
        }
      ]
    },
    {
      "cell_type": "code",
      "source": [
        "yearly_combined = pd.DataFrame()\n",
        "\n",
        "for ticker in tickers[0:2]:\n",
        "    start = time.time()\n",
        "    try:\n",
        "        stock = yf.Ticker(ticker)\n",
        "        info = stock.info\n",
        "        #display(info)\n",
        "        \n",
        "        balance = stock.balance_sheet\n",
        "        financials = stock.financials\n",
        "        earnings = stock.earnings\n",
        "        cashflow = stock.cashflow\n",
        "        #display(balance)\n",
        "        #display(financials)\n",
        "        #display(earnings)\n",
        "        #display(cashflow)\n",
        "\n",
        "        start_dates=balance.columns.values\n",
        "        end_dates = start_dates + np.timedelta64(366,'D')\n",
        "\n",
        "        start_dates = [str(date)[:-19] for date in start_dates]\n",
        "        end_dates = [str(date)[:-19] for date in end_dates]\n",
        "        #print(start_dates)\n",
        "        year1 = stock.history(start=start_dates[0],end = end_dates[0],period='day').reset_index(drop=True)\n",
        "        year2 = stock.history(start=start_dates[1],end = end_dates[1],period='day').reset_index(drop=True)\n",
        "        year3 = stock.history(start=start_dates[2],end = end_dates[2],period='day').reset_index(drop=True)\n",
        "        year4 = stock.history(start=start_dates[3],end = end_dates[3],period='day').reset_index(drop=True)\n",
        "        #display(year4)\n",
        "\n",
        "        columns=earnings.T.columns.values\n",
        "        #print(columns)\n",
        "        balance.columns = columns\n",
        "        financials.columns=columns\n",
        "        earnings = earnings.T\n",
        "        cashflow.columns = columns\n",
        "        cashflow = cashflow.drop(['Net Income'], axis=0)\n",
        "\n",
        "        yearly= pd.concat([balance,financials, cashflow, earnings]).T\n",
        "        #display(yearly)\n",
        "        columns = yearly.columns.values\n",
        "        #print(columns)\n",
        "\n",
        "    #liquidity\n",
        "        #current ratio = current assets/current liabilities\n",
        "        yearly['current_ratio'] = yearly['Total Current Assets']/yearly['Total Current Liabilities']\n",
        "\n",
        "        #Quick ratio = (cash + cash equivalents + temp. investments + accounts receivable) / current liabilities\n",
        "        yearly['quick_ratio']= yearly['Total Current Assets']\n",
        "        if 'Inventory' in columns:\n",
        "            yearly['quick_ratio'] += yearly['Inventory']\n",
        "        yearly['quick_ratio'] /= yearly['Total Current Liabilities']\n",
        "\n",
        "        #Cash ratio = (cash + cash equivalents) / current liabilities\n",
        "        yearly['cash_ratio']= yearly['Cash']\n",
        "        if 'Short Term Investments' in columns:\n",
        "            yearly['cash_ratio'] += yearly['Short Term Investments']\n",
        "        yearly['cash_ratio'] /= yearly['Total Current Liabilities']\n",
        "\n",
        "        #Operating cash flow = operating cash flow/ current liabilities\n",
        "        yearly['operating_cashflow'] = yearly['Total Cash From Operating Activities'] / yearly['Total Current Liabilities']\n",
        "\n",
        "        #Equity ratio = total equity / total assets\n",
        "        yearly['equity_ratio'] = yearly['Total Stockholder Equity'] / yearly['Total Assets']\n",
        "\n",
        "    #Leverage\n",
        "        #debt to equity = total liabilities / shareholder equity\n",
        "        yearly['debt_to_equity'] = yearly['Total Liab'] / yearly['Total Stockholder Equity']\n",
        "\n",
        "        #debt to assets = total liabilities / total assets\n",
        "        yearly['debt_to_assets'] = yearly['Total Liab'] / yearly['Total Assets']\n",
        "        \n",
        "        #interest coverage = operating income / interest expenses\n",
        "        yearly['interest_coverage'] = yearly['Operating Income'] / yearly['Interest Expense']\n",
        "\n",
        "    #efficiency\n",
        "        #asset turnover = revenue/ total assets\n",
        "        yearly['asset_turnover'] = yearly['Revenue'] / yearly['Total Assets']\n",
        "\n",
        "        #RECEIVABLES TURNOVER = revenue / accounts receivables\n",
        "        if 'Net Receivables' in columns:\n",
        "            yearly['receivables_turnover'] = yearly['Revenue'] / yearly['Net Receivables']\n",
        "        else: \n",
        "            yearly['receivables_turnover'] = np.nan\n",
        "    \n",
        "    \n",
        "    #Profitability\n",
        "        #gross margin = gross profit/revenue\n",
        "        yearly['gross_margin'] =yearly['Gross Profit'] / yearly['Revenue']\n",
        "        \n",
        "        #profit margin = net income / revenue\n",
        "        yearly['profit_margin'] =yearly['Net Income'] / yearly['Revenue']\n",
        "\n",
        "        #operating margin = operating income / revenue\n",
        "        yearly['operating_margin'] =yearly['Operating Income'] / yearly['Revenue']\n",
        "\n",
        "        #return on equity = net income / shareholder equity\n",
        "        yearly['return_on_equity'] =yearly['Net Income'] / yearly['Total Stockholder Equity']\n",
        "\n",
        "        #return on assets =  net income / total assets\n",
        "        yearly['return_on_assets'] =yearly['Net Income'] / yearly['Total Assets']\n",
        "        shareprice = np.array([year4.loc[0,'Close'],year3.loc[0,'Close'],year2.loc[0,'Close'],year1.loc[0,'Close']])\n",
        "\n",
        "        #eps = earning/total shares outstanding\n",
        "        if 'Issuance of Stock' in columns:\n",
        "            yearly['eps']= yearly['Earnings'] / yearly['Issuance Of Stock']\n",
        "        else:\n",
        "            yearly['eps'] = yearly['Earnings'] / info['sharesOutstanding']\n",
        "\n",
        "        #p/e = share price / eps\n",
        "        yearly['p/e'] = shareprice / yearly['eps']\n",
        "\n",
        "        yearly['ticker']=ticker\n",
        "        yearly['sector']=info['sector']\n",
        "        yearly['year']=yearly.index.values\n",
        "        #display(yearly)\n",
        "\n",
        "        startprice=np.array([year4.loc[1,'Open'],year3.loc[1,'Open'],year2.loc[1,'Open'],year1.loc[1,'Open'] ])\n",
        "        endprice=np.array([year4.loc[len(year4)-1,'Close'],year3.loc[len(year3)-1,'Close'],year2.loc[len(year2)-1,'Close'],year1.loc[len(year1)-1,'Close']])\n",
        "        pctdiff = (endprice-startprice)/startprice\n",
        "        yearly['result']= pctdiff\n",
        "        #display(yearly)\n",
        "\n",
        "        columns = ['ticker','year','sector','current_ratio', 'quick_ratio','cash_ratio','operating_cashflow','equity_ratio',\n",
        "                   'debt_to_equity','debt_to_assets','interest_coverage','asset_turnover','receivables_turnover','gross_margin',\n",
        "                   'profit_margin','operating_margin','return_on_equity','return_on_assets','eps','p/e','result']\n",
        "        yearly=yearly[columns].reset_index(drop=True)\n",
        "\n",
        "        if yearly_combined.empty:\n",
        "            yearly_combined = yearly\n",
        "        else:\n",
        "            yearly_combined = pd.concat([yearly_combined,yearly]).reset_index(drop=True)\n",
        "    except Exception as e:\n",
        "        print(ticker,e)\n",
        "\n",
        "    time_diff = time.time() - start\n",
        "    if time_diff < 10:\n",
        "        time.sleep(10-time_diff)\n",
        "\n",
        "display(yearly_combined)\n",
        "yearly_combined.to_csv('combined.csv',index=False)"
      ],
      "metadata": {
        "colab": {
          "base_uri": "https://localhost:8080/",
          "height": 394
        },
        "id": "Yfq8AS-CV6uz",
        "outputId": "4ddb6856-5736-4f58-8250-23b977d185a9"
      },
      "execution_count": null,
      "outputs": [
        {
          "output_type": "display_data",
          "data": {
            "text/plain": [
              "  ticker  year       sector current_ratio quick_ratio cash_ratio  \\\n",
              "0    MMM  2018  Industrials      1.704815    2.256558   0.527393   \n",
              "1    MMM  2019  Industrials      1.885003    2.418344    0.63387   \n",
              "2    MMM  2020  Industrials      1.406528    1.854804   0.265777   \n",
              "3    MMM  2021  Industrials      1.892463    2.495168     0.4463   \n",
              "4    AOS  2018  Industrials        1.5665    1.966661   0.564355   \n",
              "5    AOS  2019  Industrials      1.825567    2.164166   0.778066   \n",
              "6    AOS  2020  Industrials      1.957469    2.352772   0.719374   \n",
              "7    AOS  2021  Industrials      2.086464    2.474468   0.821342   \n",
              "\n",
              "  operating_cashflow equity_ratio debt_to_equity debt_to_assets  ...  \\\n",
              "0           0.825014     0.319638        2.12382       0.678854  ...   \n",
              "1            1.02076     0.271777       2.674516       0.726871  ...   \n",
              "2           0.766645      0.22533        3.43168        0.77326  ...   \n",
              "3           0.888874     0.268384       2.720702       0.730192  ...   \n",
              "4           0.573025     0.527343         0.8963       0.472657  ...   \n",
              "5            0.63421     0.584776       0.710058       0.415224  ...   \n",
              "6           0.595173     0.545062       0.834653       0.454938  ...   \n",
              "7           0.571629      0.55901       0.788876        0.44099  ...   \n",
              "\n",
              "  asset_turnover receivables_turnover gross_margin profit_margin  \\\n",
              "0       0.696061             6.868973     0.505997      0.180711   \n",
              "1       0.678777             6.653416     0.488082      0.169561   \n",
              "2       0.720661             6.484787     0.468307      0.140349   \n",
              "3        0.96863              6.90123     0.455664      0.151294   \n",
              "4        0.91754             5.025063     0.411211      0.152797   \n",
              "5       0.946847             5.115726     0.370301      0.115247   \n",
              "6       0.946795              4.91145     0.407799      0.127793   \n",
              "7       1.152173             5.467171       0.3689      0.125519   \n",
              "\n",
              "  operating_margin return_on_equity return_on_assets        eps        p/e  \\\n",
              "0         0.237754         0.393527         0.125786   9.399728  17.967421   \n",
              "1         0.222679         0.423486         0.115094   7.937665  20.363947   \n",
              "2         0.195905         0.448872         0.101144   9.575457  17.347673   \n",
              "3         0.219686         0.546039         0.146548  10.404896  16.739164   \n",
              "4         0.191003         0.265855         0.140197   3.415977  11.723657   \n",
              "5         0.147359         0.186604         0.109121   2.845366  15.995777   \n",
              "6         0.158775         0.221982         0.120994   2.652342  20.156266   \n",
              "7           0.1555         0.258707          0.14462   3.745886  22.732212   \n",
              "\n",
              "     result  \n",
              "0 -0.029048  \n",
              "1  0.016395  \n",
              "2  0.047247  \n",
              "3 -0.255744  \n",
              "4  0.149683  \n",
              "5  0.165654  \n",
              "6  0.596277  \n",
              "7 -0.334644  \n",
              "\n",
              "[8 rows x 21 columns]"
            ],
            "text/html": [
              "\n",
              "  <div id=\"df-1d6d30ea-cd75-47eb-a402-994f3c97b866\">\n",
              "    <div class=\"colab-df-container\">\n",
              "      <div>\n",
              "<style scoped>\n",
              "    .dataframe tbody tr th:only-of-type {\n",
              "        vertical-align: middle;\n",
              "    }\n",
              "\n",
              "    .dataframe tbody tr th {\n",
              "        vertical-align: top;\n",
              "    }\n",
              "\n",
              "    .dataframe thead th {\n",
              "        text-align: right;\n",
              "    }\n",
              "</style>\n",
              "<table border=\"1\" class=\"dataframe\">\n",
              "  <thead>\n",
              "    <tr style=\"text-align: right;\">\n",
              "      <th></th>\n",
              "      <th>ticker</th>\n",
              "      <th>year</th>\n",
              "      <th>sector</th>\n",
              "      <th>current_ratio</th>\n",
              "      <th>quick_ratio</th>\n",
              "      <th>cash_ratio</th>\n",
              "      <th>operating_cashflow</th>\n",
              "      <th>equity_ratio</th>\n",
              "      <th>debt_to_equity</th>\n",
              "      <th>debt_to_assets</th>\n",
              "      <th>...</th>\n",
              "      <th>asset_turnover</th>\n",
              "      <th>receivables_turnover</th>\n",
              "      <th>gross_margin</th>\n",
              "      <th>profit_margin</th>\n",
              "      <th>operating_margin</th>\n",
              "      <th>return_on_equity</th>\n",
              "      <th>return_on_assets</th>\n",
              "      <th>eps</th>\n",
              "      <th>p/e</th>\n",
              "      <th>result</th>\n",
              "    </tr>\n",
              "  </thead>\n",
              "  <tbody>\n",
              "    <tr>\n",
              "      <th>0</th>\n",
              "      <td>MMM</td>\n",
              "      <td>2018</td>\n",
              "      <td>Industrials</td>\n",
              "      <td>1.704815</td>\n",
              "      <td>2.256558</td>\n",
              "      <td>0.527393</td>\n",
              "      <td>0.825014</td>\n",
              "      <td>0.319638</td>\n",
              "      <td>2.12382</td>\n",
              "      <td>0.678854</td>\n",
              "      <td>...</td>\n",
              "      <td>0.696061</td>\n",
              "      <td>6.868973</td>\n",
              "      <td>0.505997</td>\n",
              "      <td>0.180711</td>\n",
              "      <td>0.237754</td>\n",
              "      <td>0.393527</td>\n",
              "      <td>0.125786</td>\n",
              "      <td>9.399728</td>\n",
              "      <td>17.967421</td>\n",
              "      <td>-0.029048</td>\n",
              "    </tr>\n",
              "    <tr>\n",
              "      <th>1</th>\n",
              "      <td>MMM</td>\n",
              "      <td>2019</td>\n",
              "      <td>Industrials</td>\n",
              "      <td>1.885003</td>\n",
              "      <td>2.418344</td>\n",
              "      <td>0.63387</td>\n",
              "      <td>1.02076</td>\n",
              "      <td>0.271777</td>\n",
              "      <td>2.674516</td>\n",
              "      <td>0.726871</td>\n",
              "      <td>...</td>\n",
              "      <td>0.678777</td>\n",
              "      <td>6.653416</td>\n",
              "      <td>0.488082</td>\n",
              "      <td>0.169561</td>\n",
              "      <td>0.222679</td>\n",
              "      <td>0.423486</td>\n",
              "      <td>0.115094</td>\n",
              "      <td>7.937665</td>\n",
              "      <td>20.363947</td>\n",
              "      <td>0.016395</td>\n",
              "    </tr>\n",
              "    <tr>\n",
              "      <th>2</th>\n",
              "      <td>MMM</td>\n",
              "      <td>2020</td>\n",
              "      <td>Industrials</td>\n",
              "      <td>1.406528</td>\n",
              "      <td>1.854804</td>\n",
              "      <td>0.265777</td>\n",
              "      <td>0.766645</td>\n",
              "      <td>0.22533</td>\n",
              "      <td>3.43168</td>\n",
              "      <td>0.77326</td>\n",
              "      <td>...</td>\n",
              "      <td>0.720661</td>\n",
              "      <td>6.484787</td>\n",
              "      <td>0.468307</td>\n",
              "      <td>0.140349</td>\n",
              "      <td>0.195905</td>\n",
              "      <td>0.448872</td>\n",
              "      <td>0.101144</td>\n",
              "      <td>9.575457</td>\n",
              "      <td>17.347673</td>\n",
              "      <td>0.047247</td>\n",
              "    </tr>\n",
              "    <tr>\n",
              "      <th>3</th>\n",
              "      <td>MMM</td>\n",
              "      <td>2021</td>\n",
              "      <td>Industrials</td>\n",
              "      <td>1.892463</td>\n",
              "      <td>2.495168</td>\n",
              "      <td>0.4463</td>\n",
              "      <td>0.888874</td>\n",
              "      <td>0.268384</td>\n",
              "      <td>2.720702</td>\n",
              "      <td>0.730192</td>\n",
              "      <td>...</td>\n",
              "      <td>0.96863</td>\n",
              "      <td>6.90123</td>\n",
              "      <td>0.455664</td>\n",
              "      <td>0.151294</td>\n",
              "      <td>0.219686</td>\n",
              "      <td>0.546039</td>\n",
              "      <td>0.146548</td>\n",
              "      <td>10.404896</td>\n",
              "      <td>16.739164</td>\n",
              "      <td>-0.255744</td>\n",
              "    </tr>\n",
              "    <tr>\n",
              "      <th>4</th>\n",
              "      <td>AOS</td>\n",
              "      <td>2018</td>\n",
              "      <td>Industrials</td>\n",
              "      <td>1.5665</td>\n",
              "      <td>1.966661</td>\n",
              "      <td>0.564355</td>\n",
              "      <td>0.573025</td>\n",
              "      <td>0.527343</td>\n",
              "      <td>0.8963</td>\n",
              "      <td>0.472657</td>\n",
              "      <td>...</td>\n",
              "      <td>0.91754</td>\n",
              "      <td>5.025063</td>\n",
              "      <td>0.411211</td>\n",
              "      <td>0.152797</td>\n",
              "      <td>0.191003</td>\n",
              "      <td>0.265855</td>\n",
              "      <td>0.140197</td>\n",
              "      <td>3.415977</td>\n",
              "      <td>11.723657</td>\n",
              "      <td>0.149683</td>\n",
              "    </tr>\n",
              "    <tr>\n",
              "      <th>5</th>\n",
              "      <td>AOS</td>\n",
              "      <td>2019</td>\n",
              "      <td>Industrials</td>\n",
              "      <td>1.825567</td>\n",
              "      <td>2.164166</td>\n",
              "      <td>0.778066</td>\n",
              "      <td>0.63421</td>\n",
              "      <td>0.584776</td>\n",
              "      <td>0.710058</td>\n",
              "      <td>0.415224</td>\n",
              "      <td>...</td>\n",
              "      <td>0.946847</td>\n",
              "      <td>5.115726</td>\n",
              "      <td>0.370301</td>\n",
              "      <td>0.115247</td>\n",
              "      <td>0.147359</td>\n",
              "      <td>0.186604</td>\n",
              "      <td>0.109121</td>\n",
              "      <td>2.845366</td>\n",
              "      <td>15.995777</td>\n",
              "      <td>0.165654</td>\n",
              "    </tr>\n",
              "    <tr>\n",
              "      <th>6</th>\n",
              "      <td>AOS</td>\n",
              "      <td>2020</td>\n",
              "      <td>Industrials</td>\n",
              "      <td>1.957469</td>\n",
              "      <td>2.352772</td>\n",
              "      <td>0.719374</td>\n",
              "      <td>0.595173</td>\n",
              "      <td>0.545062</td>\n",
              "      <td>0.834653</td>\n",
              "      <td>0.454938</td>\n",
              "      <td>...</td>\n",
              "      <td>0.946795</td>\n",
              "      <td>4.91145</td>\n",
              "      <td>0.407799</td>\n",
              "      <td>0.127793</td>\n",
              "      <td>0.158775</td>\n",
              "      <td>0.221982</td>\n",
              "      <td>0.120994</td>\n",
              "      <td>2.652342</td>\n",
              "      <td>20.156266</td>\n",
              "      <td>0.596277</td>\n",
              "    </tr>\n",
              "    <tr>\n",
              "      <th>7</th>\n",
              "      <td>AOS</td>\n",
              "      <td>2021</td>\n",
              "      <td>Industrials</td>\n",
              "      <td>2.086464</td>\n",
              "      <td>2.474468</td>\n",
              "      <td>0.821342</td>\n",
              "      <td>0.571629</td>\n",
              "      <td>0.55901</td>\n",
              "      <td>0.788876</td>\n",
              "      <td>0.44099</td>\n",
              "      <td>...</td>\n",
              "      <td>1.152173</td>\n",
              "      <td>5.467171</td>\n",
              "      <td>0.3689</td>\n",
              "      <td>0.125519</td>\n",
              "      <td>0.1555</td>\n",
              "      <td>0.258707</td>\n",
              "      <td>0.14462</td>\n",
              "      <td>3.745886</td>\n",
              "      <td>22.732212</td>\n",
              "      <td>-0.334644</td>\n",
              "    </tr>\n",
              "  </tbody>\n",
              "</table>\n",
              "<p>8 rows × 21 columns</p>\n",
              "</div>\n",
              "      <button class=\"colab-df-convert\" onclick=\"convertToInteractive('df-1d6d30ea-cd75-47eb-a402-994f3c97b866')\"\n",
              "              title=\"Convert this dataframe to an interactive table.\"\n",
              "              style=\"display:none;\">\n",
              "        \n",
              "  <svg xmlns=\"http://www.w3.org/2000/svg\" height=\"24px\"viewBox=\"0 0 24 24\"\n",
              "       width=\"24px\">\n",
              "    <path d=\"M0 0h24v24H0V0z\" fill=\"none\"/>\n",
              "    <path d=\"M18.56 5.44l.94 2.06.94-2.06 2.06-.94-2.06-.94-.94-2.06-.94 2.06-2.06.94zm-11 1L8.5 8.5l.94-2.06 2.06-.94-2.06-.94L8.5 2.5l-.94 2.06-2.06.94zm10 10l.94 2.06.94-2.06 2.06-.94-2.06-.94-.94-2.06-.94 2.06-2.06.94z\"/><path d=\"M17.41 7.96l-1.37-1.37c-.4-.4-.92-.59-1.43-.59-.52 0-1.04.2-1.43.59L10.3 9.45l-7.72 7.72c-.78.78-.78 2.05 0 2.83L4 21.41c.39.39.9.59 1.41.59.51 0 1.02-.2 1.41-.59l7.78-7.78 2.81-2.81c.8-.78.8-2.07 0-2.86zM5.41 20L4 18.59l7.72-7.72 1.47 1.35L5.41 20z\"/>\n",
              "  </svg>\n",
              "      </button>\n",
              "      \n",
              "  <style>\n",
              "    .colab-df-container {\n",
              "      display:flex;\n",
              "      flex-wrap:wrap;\n",
              "      gap: 12px;\n",
              "    }\n",
              "\n",
              "    .colab-df-convert {\n",
              "      background-color: #E8F0FE;\n",
              "      border: none;\n",
              "      border-radius: 50%;\n",
              "      cursor: pointer;\n",
              "      display: none;\n",
              "      fill: #1967D2;\n",
              "      height: 32px;\n",
              "      padding: 0 0 0 0;\n",
              "      width: 32px;\n",
              "    }\n",
              "\n",
              "    .colab-df-convert:hover {\n",
              "      background-color: #E2EBFA;\n",
              "      box-shadow: 0px 1px 2px rgba(60, 64, 67, 0.3), 0px 1px 3px 1px rgba(60, 64, 67, 0.15);\n",
              "      fill: #174EA6;\n",
              "    }\n",
              "\n",
              "    [theme=dark] .colab-df-convert {\n",
              "      background-color: #3B4455;\n",
              "      fill: #D2E3FC;\n",
              "    }\n",
              "\n",
              "    [theme=dark] .colab-df-convert:hover {\n",
              "      background-color: #434B5C;\n",
              "      box-shadow: 0px 1px 3px 1px rgba(0, 0, 0, 0.15);\n",
              "      filter: drop-shadow(0px 1px 2px rgba(0, 0, 0, 0.3));\n",
              "      fill: #FFFFFF;\n",
              "    }\n",
              "  </style>\n",
              "\n",
              "      <script>\n",
              "        const buttonEl =\n",
              "          document.querySelector('#df-1d6d30ea-cd75-47eb-a402-994f3c97b866 button.colab-df-convert');\n",
              "        buttonEl.style.display =\n",
              "          google.colab.kernel.accessAllowed ? 'block' : 'none';\n",
              "\n",
              "        async function convertToInteractive(key) {\n",
              "          const element = document.querySelector('#df-1d6d30ea-cd75-47eb-a402-994f3c97b866');\n",
              "          const dataTable =\n",
              "            await google.colab.kernel.invokeFunction('convertToInteractive',\n",
              "                                                     [key], {});\n",
              "          if (!dataTable) return;\n",
              "\n",
              "          const docLinkHtml = 'Like what you see? Visit the ' +\n",
              "            '<a target=\"_blank\" href=https://colab.research.google.com/notebooks/data_table.ipynb>data table notebook</a>'\n",
              "            + ' to learn more about interactive tables.';\n",
              "          element.innerHTML = '';\n",
              "          dataTable['output_type'] = 'display_data';\n",
              "          await google.colab.output.renderOutput(dataTable, element);\n",
              "          const docLink = document.createElement('div');\n",
              "          docLink.innerHTML = docLinkHtml;\n",
              "          element.appendChild(docLink);\n",
              "        }\n",
              "      </script>\n",
              "    </div>\n",
              "  </div>\n",
              "  "
            ]
          },
          "metadata": {}
        }
      ]
    },
    {
      "cell_type": "code",
      "source": [
        "pip install yfinance"
      ],
      "metadata": {
        "colab": {
          "base_uri": "https://localhost:8080/"
        },
        "id": "DjcuRW5XW99j",
        "outputId": "5598f32b-0541-4b58-f667-10349504ca68"
      },
      "execution_count": null,
      "outputs": [
        {
          "output_type": "stream",
          "name": "stdout",
          "text": [
            "Looking in indexes: https://pypi.org/simple, https://us-python.pkg.dev/colab-wheels/public/simple/\n",
            "Collecting yfinance\n",
            "  Downloading yfinance-0.1.74-py2.py3-none-any.whl (27 kB)\n",
            "Requirement already satisfied: pandas>=0.24.0 in /usr/local/lib/python3.7/dist-packages (from yfinance) (1.3.5)\n",
            "Collecting requests>=2.26\n",
            "  Downloading requests-2.28.1-py3-none-any.whl (62 kB)\n",
            "\u001b[K     |████████████████████████████████| 62 kB 1.1 MB/s \n",
            "\u001b[?25hRequirement already satisfied: numpy>=1.15 in /usr/local/lib/python3.7/dist-packages (from yfinance) (1.21.6)\n",
            "Requirement already satisfied: multitasking>=0.0.7 in /usr/local/lib/python3.7/dist-packages (from yfinance) (0.0.11)\n",
            "Collecting lxml>=4.5.1\n",
            "  Downloading lxml-4.9.1-cp37-cp37m-manylinux_2_17_x86_64.manylinux2014_x86_64.manylinux_2_24_x86_64.whl (6.4 MB)\n",
            "\u001b[K     |████████████████████████████████| 6.4 MB 9.8 MB/s \n",
            "\u001b[?25hRequirement already satisfied: pytz>=2017.3 in /usr/local/lib/python3.7/dist-packages (from pandas>=0.24.0->yfinance) (2022.1)\n",
            "Requirement already satisfied: python-dateutil>=2.7.3 in /usr/local/lib/python3.7/dist-packages (from pandas>=0.24.0->yfinance) (2.8.2)\n",
            "Requirement already satisfied: six>=1.5 in /usr/local/lib/python3.7/dist-packages (from python-dateutil>=2.7.3->pandas>=0.24.0->yfinance) (1.15.0)\n",
            "Requirement already satisfied: urllib3<1.27,>=1.21.1 in /usr/local/lib/python3.7/dist-packages (from requests>=2.26->yfinance) (1.24.3)\n",
            "Requirement already satisfied: charset-normalizer<3,>=2 in /usr/local/lib/python3.7/dist-packages (from requests>=2.26->yfinance) (2.1.0)\n",
            "Requirement already satisfied: idna<4,>=2.5 in /usr/local/lib/python3.7/dist-packages (from requests>=2.26->yfinance) (2.10)\n",
            "Requirement already satisfied: certifi>=2017.4.17 in /usr/local/lib/python3.7/dist-packages (from requests>=2.26->yfinance) (2022.6.15)\n",
            "Installing collected packages: requests, lxml, yfinance\n",
            "  Attempting uninstall: requests\n",
            "    Found existing installation: requests 2.23.0\n",
            "    Uninstalling requests-2.23.0:\n",
            "      Successfully uninstalled requests-2.23.0\n",
            "  Attempting uninstall: lxml\n",
            "    Found existing installation: lxml 4.2.6\n",
            "    Uninstalling lxml-4.2.6:\n",
            "      Successfully uninstalled lxml-4.2.6\n",
            "\u001b[31mERROR: pip's dependency resolver does not currently take into account all the packages that are installed. This behaviour is the source of the following dependency conflicts.\n",
            "google-colab 1.0.0 requires requests~=2.23.0, but you have requests 2.28.1 which is incompatible.\n",
            "datascience 0.10.6 requires folium==0.2.1, but you have folium 0.8.3 which is incompatible.\u001b[0m\n",
            "Successfully installed lxml-4.9.1 requests-2.28.1 yfinance-0.1.74\n"
          ]
        }
      ]
    },
    {
      "cell_type": "code",
      "source": [
        "print(columns)"
      ],
      "metadata": {
        "colab": {
          "base_uri": "https://localhost:8080/"
        },
        "id": "5CzPzFN2QntR",
        "outputId": "991aeffb-2950-4323-857f-4f06df688a5e"
      },
      "execution_count": null,
      "outputs": [
        {
          "output_type": "stream",
          "name": "stdout",
          "text": [
            "['ticker', 'year', 'sector', 'current_ratio', 'quick_ratio', 'cash_ratio', 'operating_cashflow', 'equity_ratio', 'debt_to_equity', 'debt_to_assets', 'interest_coverage', 'asset_turnover', 'receivables_turnover', 'gross_margin', 'profit_margin', 'operating_margin', 'return_on_equity', 'return_on_assets', 'eps', 'p/e', 'result']\n"
          ]
        }
      ]
    },
    {
      "cell_type": "markdown",
      "source": [
        "#Logistic Regression"
      ],
      "metadata": {
        "id": "Bl6zQrGIKVAv"
      }
    },
    {
      "cell_type": "code",
      "source": [
        "import numpy as np\n",
        "import pandas as pd\n",
        "import matplotlib.pyplot as plt\n",
        "from datetime import datetime, timedelta\n",
        "import yfinance as yf"
      ],
      "metadata": {
        "id": "3n_L-dMXVG3y"
      },
      "execution_count": null,
      "outputs": []
    },
    {
      "cell_type": "code",
      "source": [
        "data = pd.read_csv('sp500_data.csv')\n",
        "data['sector']=data['sector'].astype('category')\n",
        "data['sector']=data['sector'].cat.codes\n",
        "\n",
        "data.dropna(subset=['result'],inplace=True)\n",
        "\n",
        "#plt.hist(data['result'])\n",
        "\n",
        "bins=[-10,0,0.25,0.5,10]\n",
        "data['result_bin'] = pd.cut(data['result'],bins).astype('category').cat.codes\n",
        "\n",
        "pct_change = data['result']\n",
        "\n",
        "data = data.drop(['result'],axis=1)\n",
        "#display(data)\n",
        "X = data[data.columns[2:-1]]\n",
        "y = data['result_bin']\n",
        "#display(data.isna().sum())\n",
        "#display(data['result_bin'])\n",
        "\n",
        "train_idx = data[data['year']<2020].index.values\n",
        "test_idx = data[data['year']==2020].index.values\n",
        "\n",
        "X_train = X.loc[train_idx]\n",
        "X_test = X.loc[test_idx]\n",
        "y_train = y.loc[train_idx]\n",
        "y_test = y.loc[test_idx]\n",
        "\n",
        "IQR = X_train.quantile(.75) - X_train.quantile(.25)\n",
        "lower = X_train.quantile(.25) - 1.5*IQR\n",
        "upper = X_train.quantile(.75) + 1.5*IQR\n",
        "\n",
        "for i in X_train.columns:\n",
        "    X_train.loc[X_train[i]<lower[i],i]= lower[i]\n",
        "    X_train.loc[X_train[i]>upper[i],i]= upper[i]\n",
        "\n",
        "    X_test.loc[X_test[i]<lower[i],i]= lower[i]\n",
        "    X_test.loc[X_test[i]>upper[i],i]= upper[i]\n",
        "\n",
        "    X_test[i].fillna(X_train[i].median(),inplace=True) #filling missing values\n",
        "    X_train[i].fillna(X_train[i].median(),inplace=True)\n",
        "\n",
        "    X_test[i] = (X_test[i] - X_train[i].min())/(X_train[i].max()-X_train[i].min())\n",
        "    X_train[i] = (X_train[i] - X_train[i].min())/(X_train[i].max()-X_train[i].min())\n",
        "\n",
        "print(X_train.shape,X_test.shape,y_train.shape,y_test.shape)"
      ],
      "metadata": {
        "colab": {
          "base_uri": "https://localhost:8080/"
        },
        "id": "D71DTcUCKQBv",
        "outputId": "f308bca0-d6b4-43fb-a662-df4e982c8525"
      },
      "execution_count": null,
      "outputs": [
        {
          "output_type": "stream",
          "name": "stdout",
          "text": [
            "(1267, 18) (476, 18) (1267,) (476,)\n"
          ]
        }
      ]
    },
    {
      "cell_type": "code",
      "source": [
        "from sklearn.linear_model import LogisticRegression\n",
        "from sklearn.metrics import accuracy_score\n"
      ],
      "metadata": {
        "id": "miVoGKGNNKwp"
      },
      "execution_count": null,
      "outputs": []
    },
    {
      "cell_type": "code",
      "source": [
        "model = LogisticRegression(max_iter=1000)\n",
        "model = model.fit(X_train,y_train)\n",
        "preds = model.predict(X_test)\n",
        "\n",
        "print(\"accuracy Score: \",accuracy_score(preds,y_test))\n",
        "\n",
        "print(preds)\n",
        "#print(y_test.values)\n",
        "\n",
        "print(pct_change[test_idx].mean())\n",
        "print(pct_change[y_test[preds>0].index.values].mean())\n",
        "print(pct_change[y_test[preds>2].index.values].mean()) #10% more returns"
      ],
      "metadata": {
        "colab": {
          "base_uri": "https://localhost:8080/"
        },
        "id": "jxQWUBrQUlAR",
        "outputId": "31bb7206-4c96-4f74-fd18-43399dac54b8"
      },
      "execution_count": null,
      "outputs": [
        {
          "output_type": "stream",
          "name": "stdout",
          "text": [
            "accuracy Score:  0.2184873949579832\n",
            "[1 1 0 1 3 1 0 1 1 0 0 0 1 0 0 0 1 0 0 1 0 1 0 0 0 2 0 0 1 1 1 1 0 0 1 0 0\n",
            " 1 0 1 1 1 0 0 1 1 1 3 0 2 1 1 1 1 0 0 0 1 0 1 0 1 0 0 1 0 0 1 0 0 0 1 0 0\n",
            " 1 1 1 0 0 0 1 0 2 0 1 0 1 1 0 1 0 0 2 0 1 0 0 0 0 0 1 0 0 1 1 0 2 0 1 2 0\n",
            " 0 1 1 1 0 0 2 1 2 1 2 0 1 0 1 1 1 1 3 1 1 0 0 1 0 0 0 2 1 2 0 0 0 2 1 0 1\n",
            " 1 1 1 1 0 1 1 1 0 2 0 1 0 1 1 0 2 1 1 0 1 1 1 3 0 1 1 1 0 1 1 1 1 1 1 0 2\n",
            " 0 0 1 1 1 0 0 0 1 1 0 0 0 0 0 3 0 0 1 1 0 2 0 0 0 0 0 1 0 0 0 1 0 1 1 0 1\n",
            " 2 0 1 0 1 3 0 1 0 1 2 1 1 1 1 0 0 1 2 0 0 0 0 1 0 0 1 1 0 1 1 1 1 0 0 0 3\n",
            " 1 1 0 1 1 1 1 1 1 1 2 1 0 0 0 0 0 1 1 0 0 0 1 0 0 1 2 2 1 0 1 1 0 0 2 0 0\n",
            " 0 2 0 1 2 0 1 1 1 0 0 2 1 3 2 1 0 0 1 0 1 1 0 2 0 0 1 0 1 1 1 1 0 0 0 2 1\n",
            " 1 3 1 1 1 0 0 0 1 1 1 0 1 1 0 2 1 2 0 2 1 1 1 0 0 1 1 1 0 0 0 1 0 1 0 1 0\n",
            " 1 0 1 1 0 0 1 1 1 1 0 1 1 1 1 1 1 1 2 1 1 1 0 1 1 0 0 0 0 1 3 0 3 0 2 0 1\n",
            " 0 0 2 1 1 0 3 0 2 1 2 0 3 0 3 0 1 1 1 1 1 0 1 0 0 1 1 0 1 0 0 1 1 1 1 1 1\n",
            " 1 1 1 1 1 0 1 1 0 0 1 1 1 1 0 1 2 0 1 0 0 0 0 0 2 1 1 1 0 2 0 1]\n",
            "0.33550256946083173\n",
            "0.33367675412660686\n",
            "0.42657694167871224\n"
          ]
        }
      ]
    },
    {
      "cell_type": "code",
      "source": [
        ""
      ],
      "metadata": {
        "id": "VE8yoYfsU3sx"
      },
      "execution_count": null,
      "outputs": []
    }
  ]
}